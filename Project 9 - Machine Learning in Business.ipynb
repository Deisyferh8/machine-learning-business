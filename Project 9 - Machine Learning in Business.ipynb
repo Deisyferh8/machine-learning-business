{
 "cells": [
  {
   "cell_type": "markdown",
   "metadata": {},
   "source": [
    "<div style=\"border: 5px solid purple; padding: 15px; margin: 5px\">\n",
    "<b> Reviewer's comment 2 </b>\n",
    "    \n",
    "Thank you for your diligence! I've left a couple of new comments with digit 2, but there's nothing that needs to be fixed.\n",
    "    \n",
    "    \n",
    "You did a fantastic job here. You have correctly splitted the data, explored the distributions, trained several models, and applied the bootstrapping technique. You have successfully estimated profit and conducted risk analysis. You have also compared regions based on risk-adjusted return to make recommendations for further development. Excellent job! \n",
    "    \n",
    "    \n",
    "I do not have any questions, so the project can be accepted. The next sprints will cover more advanced machine learning methods, I hope you will like it. \n",
    "\n",
    "\n",
    "\n",
    "I've left a large comment with several links where you can read about prompt engineering. It will help you use AI more effectively. I also shared a couple of useful tools that you may like 😉 \n",
    "\n",
    "\n",
    "Good luck! \n",
    "    \n",
    "    \n",
    "\n",
    "</div>"
   ]
  },
  {
   "cell_type": "markdown",
   "metadata": {},
   "source": [
    "<div style=\"border: 5px solid purple; padding: 15px; margin: 5px\">\n",
    "<b> Reviewer's comment</b>\n",
    "    \n",
    "Hi Deisi, I am a reviewer on this project. Congratulations on submitting another project! 🎉\n",
    "    \n",
    "\n",
    "Before we start, I want to pay your attention to the color marking:\n",
    "    \n",
    "\n",
    "   \n",
    "    \n",
    "<div style=\"border: 5px solid green; padding: 15px; margin: 5px\">\n",
    "\n",
    "Great solutions and ideas that can and should be used in the future are in green comments. Some of them are: \n",
    "    \n",
    "    \n",
    "- You have successfully prepared the subsets. It is important to split the data correctly in order to ensure there's no intersection;    \n",
    "    \n",
    "   \n",
    "- Used linear regression to make predictions;\n",
    "    \n",
    "    \n",
    "- Calculated profit and estimated risk values; \n",
    "    \n",
    "    \n",
    "- Wrote an excellent conclusion! A well-written conclusion shows how the project met its objectives and provides a concise and understandable summary for those who may not have been involved in the details of the project. Good job! \n",
    "\n",
    "</div>\n",
    "    \n",
    "<div style=\"border: 5px solid gold; padding: 15px; margin: 5px\">\n",
    "<b> Reviewer's comment </b>\n",
    "\n",
    "Yellow color indicates what should be optimized. This is not necessary, but it will be great if you make changes to this project. I've left several recommendations throughout the project. \n",
    "    \n",
    "</div>\n",
    "<div style=\"border: 5px solid red; padding: 15px; margin: 5px\">\n",
    "<b> Reviewer's comment </b>\n",
    "\n",
    "Issues that must be corrected to achieve accurate results are indicated in red comments. Please note that the project cannot be accepted until these issues are resolved. For instance,\n",
    "\n",
    "\n",
    "\n",
    "- Please try to explore the distributions and add conclusions. In real-world problems, the data is rarely clean. Displaying distributions help us evaluate the data, find outliers, identify the required preprocessing steps and understand feature relationships, which informs feature engineering. Feature engineering in some cases is a clue; \n",
    "\n",
    "\n",
    "- Please compare the break-even value with the actual (target) average volume in each region.\n",
    "\n",
    "\n",
    "- In the bootstrapping section, please use one loop and iterate over three regions. \n",
    "\n",
    "\n",
    "\n",
    "There may be other issues that need your attention. I described everything in my comments.  \n",
    "</div>        \n",
    "<hr>\n",
    "    \n",
    "<font color='dodgerblue'>**To sum up:**</font> you did a great job here, thank you so much for submitting the project! Actually the project is almost perfect, and the updates should not take much time. If you have any questions, please feel free to ask. I will wait the project for the second review 😊 \n",
    "    \n",
    "\n",
    "<hr>\n",
    "    \n",
    "Please use some color other than those listed to highlight answers to my comments.\n",
    "I would also ask you **not to change, move or delete my comments** to make it easier for me to navigate during the next review.\n",
    "    \n",
    "<hr> \n",
    "    \n",
    "✍️ Here's a nice [article](https://machinelearningmastery.com/a-gentle-introduction-to-the-bootstrap-method/) about the bootstrap method. [This](https://www.youtube.com/watch?v=O_Fj4q8lgmc&list=LL&index=6) is a good video about resampling in bootstrapping.\n",
    "    \n",
    "<hr>\n",
    "    \n",
    "    \n",
    "📌 Please feel free to schedule a 1:1 sessions with our tutors or TAs [here](https://calendly.com/tripleten-ds-experts-team), join daily coworking sessions, or ask questions in the sprint channels on Discord if you need assistance 😉 \n",
    "</div>"
   ]
  },
  {
   "cell_type": "markdown",
   "metadata": {},
   "source": [
    "#  Project 9"
   ]
  },
  {
   "cell_type": "markdown",
   "metadata": {},
   "source": [
    "# Introduction\n",
    "\n",
    "The present project aims to work with a database belonging to the OilyGiant mining company, the objective of this project is to find the best place for a new well, in order to choose the location, it is necessary to follow this steps:\n",
    "\n",
    "- Collect the oil well parameters in the selected region: oil quality and volume of reserves;\n",
    "- Build a model for predicting the volume of reserves in the new wells;\n",
    "- Pick the oil wells with the highest estimated values;\n",
    "- Pick the region with the highest total profit for the selected oil wells.\n",
    "\n",
    "We have data on oil samples from three regions. Parameters of each oil well in the region are already known. Build a model that will help to pick the region with the highest profit margin. Analyze potential profit and risks using the Bootstrapping technique.\n",
    "\n",
    "\n",
    "**Steps** \n",
    "\n",
    "Geological exploration data for the three regions are stored in files:\n",
    "\n",
    "- (/datasets/geo_data_0.csv).\n",
    "- (/datasets/geo_data_1.csv).\n",
    "- (/datasets/geo_data_2.csv).\n",
    "\n",
    "\n",
    "This project will consist of the following steps:\n",
    " 1. Download and prepare the data. Explain the procedure.\n",
    " - 1.1. Importing the libraries\n",
    " - 1.2. Downloading the data.\n",
    " - 1.3. Study the general information.\n",
    " - 1.4. Prepare the data\n",
    " 2. Train and test the model for each region:\n",
    " - 2.1. Split the data into a training set and validation set at a ratio of 75:25.\n",
    " - 2.2. Train the model and make predictions for the validation set.\n",
    " - 2.3. Save the predictions and correct answers for the validation set.\n",
    " - 2.4. Print the average volume of predicted reserves and model RMSE.\n",
    " - 2.5. Analyze the results.\n",
    " 3. Prepare for profit calculation:\n",
    " - 3.1. Store all key values for calculations in separate variables.\n",
    " - 3.2. Calculate the volume of reserves sufficient for developing a new well without losses. Compare the obtained value with the average volume of reserves in each region.\n",
    " - 3.3. Provide the findings about the preparation for profit calculation step.\n",
    " 4. Write a function to calculate profit from a set of selected oil wells and model predictions:\n",
    " - 4.1. Pick the wells with the highest values of predictions. \n",
    " - 4.2. Summarize the target volume of reserves in accordance with these predictions\n",
    " - 4.3. Provide findings: suggest a region for oil wells' development and justify the choice. Calculate the profit for the obtained volume of reserves.\n",
    " 5. Calculate risks and profit for each region:\n",
    " - 5.1. Use the bootstrapping technique with 1000 samples to find the distribution of profit.\n",
    " - 5.2. Find average profit, 95% confidence interval and risk of losses. Loss is negative profit, calculate it as a probability and then express as a percentage.\n",
    " - 5.3. Provide findings: suggest a region for development of oil wells and justify the choice.\n",
    " 6. General conclusion"
   ]
  },
  {
   "cell_type": "markdown",
   "metadata": {},
   "source": [
    "<div style=\"border: 5px solid green; padding: 15px; margin: 5px\">\n",
    "<b>   Reviewer's comment </b>\n",
    "    \n",
    "Good introduction! \n",
    "</div>"
   ]
  },
  {
   "cell_type": "markdown",
   "metadata": {},
   "source": [
    "## 1. Download and prepare the data. Explain the procedure."
   ]
  },
  {
   "cell_type": "markdown",
   "metadata": {},
   "source": [
    "**1.1. Importing the libraries**"
   ]
  },
  {
   "cell_type": "code",
   "execution_count": 1,
   "metadata": {},
   "outputs": [],
   "source": [
    "# Loading all the libraries\n",
    "import pandas as pd\n",
    "from sklearn.model_selection import train_test_split\n",
    "import numpy as np\n",
    "from sklearn.linear_model import LinearRegression\n",
    "from sklearn.metrics import mean_squared_error\n",
    "from numpy.random import RandomState\n",
    "import matplotlib.pyplot as plt\n",
    "import seaborn as sns\n",
    "\n",
    "\n",
    "\n"
   ]
  },
  {
   "cell_type": "code",
   "execution_count": 2,
   "metadata": {},
   "outputs": [],
   "source": [
    "%matplotlib inline"
   ]
  },
  {
   "cell_type": "code",
   "execution_count": 3,
   "metadata": {},
   "outputs": [],
   "source": [
    "# Constants\n",
    "\n",
    "BUDGET = 100000000\n",
    "\n",
    "WELLS_TO_DEVELOP = 200\n",
    "\n",
    "#Revenue per unit = $4,500 (since 1 unit = 1,000 barrels × $4.5 per barrel)\n",
    "PRICE_PER_UNIT = 4500 # dollars per 1000 barrels"
   ]
  },
  {
   "cell_type": "markdown",
   "metadata": {},
   "source": [
    "**1.2. Downloading the data and storing them to df**"
   ]
  },
  {
   "cell_type": "code",
   "execution_count": 4,
   "metadata": {},
   "outputs": [],
   "source": [
    "# reading the file and storing them to df\n",
    "region_0 = pd.read_csv(\"/datasets/geo_data_0.csv\")"
   ]
  },
  {
   "cell_type": "code",
   "execution_count": 5,
   "metadata": {},
   "outputs": [],
   "source": [
    "region_1 = pd.read_csv(\"/datasets/geo_data_1.csv\")"
   ]
  },
  {
   "cell_type": "code",
   "execution_count": 6,
   "metadata": {},
   "outputs": [],
   "source": [
    "region_2 = pd.read_csv(\"/datasets/geo_data_2.csv\")"
   ]
  },
  {
   "cell_type": "markdown",
   "metadata": {},
   "source": [
    "**1.3. Study the general information**"
   ]
  },
  {
   "cell_type": "code",
   "execution_count": 7,
   "metadata": {},
   "outputs": [
    {
     "data": {
      "text/html": [
       "<div>\n",
       "<style scoped>\n",
       "    .dataframe tbody tr th:only-of-type {\n",
       "        vertical-align: middle;\n",
       "    }\n",
       "\n",
       "    .dataframe tbody tr th {\n",
       "        vertical-align: top;\n",
       "    }\n",
       "\n",
       "    .dataframe thead th {\n",
       "        text-align: right;\n",
       "    }\n",
       "</style>\n",
       "<table border=\"1\" class=\"dataframe\">\n",
       "  <thead>\n",
       "    <tr style=\"text-align: right;\">\n",
       "      <th></th>\n",
       "      <th>id</th>\n",
       "      <th>f0</th>\n",
       "      <th>f1</th>\n",
       "      <th>f2</th>\n",
       "      <th>product</th>\n",
       "    </tr>\n",
       "  </thead>\n",
       "  <tbody>\n",
       "    <tr>\n",
       "      <th>0</th>\n",
       "      <td>txEyH</td>\n",
       "      <td>0.705745</td>\n",
       "      <td>-0.497823</td>\n",
       "      <td>1.221170</td>\n",
       "      <td>105.280062</td>\n",
       "    </tr>\n",
       "    <tr>\n",
       "      <th>1</th>\n",
       "      <td>2acmU</td>\n",
       "      <td>1.334711</td>\n",
       "      <td>-0.340164</td>\n",
       "      <td>4.365080</td>\n",
       "      <td>73.037750</td>\n",
       "    </tr>\n",
       "    <tr>\n",
       "      <th>2</th>\n",
       "      <td>409Wp</td>\n",
       "      <td>1.022732</td>\n",
       "      <td>0.151990</td>\n",
       "      <td>1.419926</td>\n",
       "      <td>85.265647</td>\n",
       "    </tr>\n",
       "    <tr>\n",
       "      <th>3</th>\n",
       "      <td>iJLyR</td>\n",
       "      <td>-0.032172</td>\n",
       "      <td>0.139033</td>\n",
       "      <td>2.978566</td>\n",
       "      <td>168.620776</td>\n",
       "    </tr>\n",
       "    <tr>\n",
       "      <th>4</th>\n",
       "      <td>Xdl7t</td>\n",
       "      <td>1.988431</td>\n",
       "      <td>0.155413</td>\n",
       "      <td>4.751769</td>\n",
       "      <td>154.036647</td>\n",
       "    </tr>\n",
       "    <tr>\n",
       "      <th>5</th>\n",
       "      <td>wX4Hy</td>\n",
       "      <td>0.969570</td>\n",
       "      <td>0.489775</td>\n",
       "      <td>-0.735383</td>\n",
       "      <td>64.741541</td>\n",
       "    </tr>\n",
       "    <tr>\n",
       "      <th>6</th>\n",
       "      <td>tL6pL</td>\n",
       "      <td>0.645075</td>\n",
       "      <td>0.530656</td>\n",
       "      <td>1.780266</td>\n",
       "      <td>49.055285</td>\n",
       "    </tr>\n",
       "    <tr>\n",
       "      <th>7</th>\n",
       "      <td>BYPU6</td>\n",
       "      <td>-0.400648</td>\n",
       "      <td>0.808337</td>\n",
       "      <td>-5.624670</td>\n",
       "      <td>72.943292</td>\n",
       "    </tr>\n",
       "    <tr>\n",
       "      <th>8</th>\n",
       "      <td>j9Oui</td>\n",
       "      <td>0.643105</td>\n",
       "      <td>-0.551583</td>\n",
       "      <td>2.372141</td>\n",
       "      <td>113.356160</td>\n",
       "    </tr>\n",
       "    <tr>\n",
       "      <th>9</th>\n",
       "      <td>OLuZU</td>\n",
       "      <td>2.173381</td>\n",
       "      <td>0.563698</td>\n",
       "      <td>9.441852</td>\n",
       "      <td>127.910945</td>\n",
       "    </tr>\n",
       "  </tbody>\n",
       "</table>\n",
       "</div>"
      ],
      "text/plain": [
       "      id        f0        f1        f2     product\n",
       "0  txEyH  0.705745 -0.497823  1.221170  105.280062\n",
       "1  2acmU  1.334711 -0.340164  4.365080   73.037750\n",
       "2  409Wp  1.022732  0.151990  1.419926   85.265647\n",
       "3  iJLyR -0.032172  0.139033  2.978566  168.620776\n",
       "4  Xdl7t  1.988431  0.155413  4.751769  154.036647\n",
       "5  wX4Hy  0.969570  0.489775 -0.735383   64.741541\n",
       "6  tL6pL  0.645075  0.530656  1.780266   49.055285\n",
       "7  BYPU6 -0.400648  0.808337 -5.624670   72.943292\n",
       "8  j9Oui  0.643105 -0.551583  2.372141  113.356160\n",
       "9  OLuZU  2.173381  0.563698  9.441852  127.910945"
      ]
     },
     "execution_count": 7,
     "metadata": {},
     "output_type": "execute_result"
    }
   ],
   "source": [
    "# previewing the first 10 rows from the region_0\n",
    "region_0.head(10)"
   ]
  },
  {
   "cell_type": "code",
   "execution_count": 8,
   "metadata": {},
   "outputs": [
    {
     "data": {
      "text/html": [
       "<div>\n",
       "<style scoped>\n",
       "    .dataframe tbody tr th:only-of-type {\n",
       "        vertical-align: middle;\n",
       "    }\n",
       "\n",
       "    .dataframe tbody tr th {\n",
       "        vertical-align: top;\n",
       "    }\n",
       "\n",
       "    .dataframe thead th {\n",
       "        text-align: right;\n",
       "    }\n",
       "</style>\n",
       "<table border=\"1\" class=\"dataframe\">\n",
       "  <thead>\n",
       "    <tr style=\"text-align: right;\">\n",
       "      <th></th>\n",
       "      <th>id</th>\n",
       "      <th>f0</th>\n",
       "      <th>f1</th>\n",
       "      <th>f2</th>\n",
       "      <th>product</th>\n",
       "    </tr>\n",
       "  </thead>\n",
       "  <tbody>\n",
       "    <tr>\n",
       "      <th>0</th>\n",
       "      <td>kBEdx</td>\n",
       "      <td>-15.001348</td>\n",
       "      <td>-8.276000</td>\n",
       "      <td>-0.005876</td>\n",
       "      <td>3.179103</td>\n",
       "    </tr>\n",
       "    <tr>\n",
       "      <th>1</th>\n",
       "      <td>62mP7</td>\n",
       "      <td>14.272088</td>\n",
       "      <td>-3.475083</td>\n",
       "      <td>0.999183</td>\n",
       "      <td>26.953261</td>\n",
       "    </tr>\n",
       "    <tr>\n",
       "      <th>2</th>\n",
       "      <td>vyE1P</td>\n",
       "      <td>6.263187</td>\n",
       "      <td>-5.948386</td>\n",
       "      <td>5.001160</td>\n",
       "      <td>134.766305</td>\n",
       "    </tr>\n",
       "    <tr>\n",
       "      <th>3</th>\n",
       "      <td>KcrkZ</td>\n",
       "      <td>-13.081196</td>\n",
       "      <td>-11.506057</td>\n",
       "      <td>4.999415</td>\n",
       "      <td>137.945408</td>\n",
       "    </tr>\n",
       "    <tr>\n",
       "      <th>4</th>\n",
       "      <td>AHL4O</td>\n",
       "      <td>12.702195</td>\n",
       "      <td>-8.147433</td>\n",
       "      <td>5.004363</td>\n",
       "      <td>134.766305</td>\n",
       "    </tr>\n",
       "    <tr>\n",
       "      <th>5</th>\n",
       "      <td>HHckp</td>\n",
       "      <td>-3.327590</td>\n",
       "      <td>-2.205276</td>\n",
       "      <td>3.003647</td>\n",
       "      <td>84.038886</td>\n",
       "    </tr>\n",
       "    <tr>\n",
       "      <th>6</th>\n",
       "      <td>h5Ujo</td>\n",
       "      <td>-11.142655</td>\n",
       "      <td>-10.133399</td>\n",
       "      <td>4.002382</td>\n",
       "      <td>110.992147</td>\n",
       "    </tr>\n",
       "    <tr>\n",
       "      <th>7</th>\n",
       "      <td>muH9x</td>\n",
       "      <td>4.234715</td>\n",
       "      <td>-0.001354</td>\n",
       "      <td>2.004588</td>\n",
       "      <td>53.906522</td>\n",
       "    </tr>\n",
       "    <tr>\n",
       "      <th>8</th>\n",
       "      <td>YiRkx</td>\n",
       "      <td>13.355129</td>\n",
       "      <td>-0.332068</td>\n",
       "      <td>4.998647</td>\n",
       "      <td>134.766305</td>\n",
       "    </tr>\n",
       "    <tr>\n",
       "      <th>9</th>\n",
       "      <td>jG6Gi</td>\n",
       "      <td>1.069227</td>\n",
       "      <td>-11.025667</td>\n",
       "      <td>4.997844</td>\n",
       "      <td>137.945408</td>\n",
       "    </tr>\n",
       "  </tbody>\n",
       "</table>\n",
       "</div>"
      ],
      "text/plain": [
       "      id         f0         f1        f2     product\n",
       "0  kBEdx -15.001348  -8.276000 -0.005876    3.179103\n",
       "1  62mP7  14.272088  -3.475083  0.999183   26.953261\n",
       "2  vyE1P   6.263187  -5.948386  5.001160  134.766305\n",
       "3  KcrkZ -13.081196 -11.506057  4.999415  137.945408\n",
       "4  AHL4O  12.702195  -8.147433  5.004363  134.766305\n",
       "5  HHckp  -3.327590  -2.205276  3.003647   84.038886\n",
       "6  h5Ujo -11.142655 -10.133399  4.002382  110.992147\n",
       "7  muH9x   4.234715  -0.001354  2.004588   53.906522\n",
       "8  YiRkx  13.355129  -0.332068  4.998647  134.766305\n",
       "9  jG6Gi   1.069227 -11.025667  4.997844  137.945408"
      ]
     },
     "execution_count": 8,
     "metadata": {},
     "output_type": "execute_result"
    }
   ],
   "source": [
    "# previewing the first 10 rows from the region_1\n",
    "region_1.head(10)"
   ]
  },
  {
   "cell_type": "code",
   "execution_count": 9,
   "metadata": {},
   "outputs": [
    {
     "data": {
      "text/html": [
       "<div>\n",
       "<style scoped>\n",
       "    .dataframe tbody tr th:only-of-type {\n",
       "        vertical-align: middle;\n",
       "    }\n",
       "\n",
       "    .dataframe tbody tr th {\n",
       "        vertical-align: top;\n",
       "    }\n",
       "\n",
       "    .dataframe thead th {\n",
       "        text-align: right;\n",
       "    }\n",
       "</style>\n",
       "<table border=\"1\" class=\"dataframe\">\n",
       "  <thead>\n",
       "    <tr style=\"text-align: right;\">\n",
       "      <th></th>\n",
       "      <th>id</th>\n",
       "      <th>f0</th>\n",
       "      <th>f1</th>\n",
       "      <th>f2</th>\n",
       "      <th>product</th>\n",
       "    </tr>\n",
       "  </thead>\n",
       "  <tbody>\n",
       "    <tr>\n",
       "      <th>0</th>\n",
       "      <td>fwXo0</td>\n",
       "      <td>-1.146987</td>\n",
       "      <td>0.963328</td>\n",
       "      <td>-0.828965</td>\n",
       "      <td>27.758673</td>\n",
       "    </tr>\n",
       "    <tr>\n",
       "      <th>1</th>\n",
       "      <td>WJtFt</td>\n",
       "      <td>0.262778</td>\n",
       "      <td>0.269839</td>\n",
       "      <td>-2.530187</td>\n",
       "      <td>56.069697</td>\n",
       "    </tr>\n",
       "    <tr>\n",
       "      <th>2</th>\n",
       "      <td>ovLUW</td>\n",
       "      <td>0.194587</td>\n",
       "      <td>0.289035</td>\n",
       "      <td>-5.586433</td>\n",
       "      <td>62.871910</td>\n",
       "    </tr>\n",
       "    <tr>\n",
       "      <th>3</th>\n",
       "      <td>q6cA6</td>\n",
       "      <td>2.236060</td>\n",
       "      <td>-0.553760</td>\n",
       "      <td>0.930038</td>\n",
       "      <td>114.572842</td>\n",
       "    </tr>\n",
       "    <tr>\n",
       "      <th>4</th>\n",
       "      <td>WPMUX</td>\n",
       "      <td>-0.515993</td>\n",
       "      <td>1.716266</td>\n",
       "      <td>5.899011</td>\n",
       "      <td>149.600746</td>\n",
       "    </tr>\n",
       "    <tr>\n",
       "      <th>5</th>\n",
       "      <td>LzZXx</td>\n",
       "      <td>-0.758092</td>\n",
       "      <td>0.710691</td>\n",
       "      <td>2.585887</td>\n",
       "      <td>90.222465</td>\n",
       "    </tr>\n",
       "    <tr>\n",
       "      <th>6</th>\n",
       "      <td>WBHRv</td>\n",
       "      <td>-0.574891</td>\n",
       "      <td>0.317727</td>\n",
       "      <td>1.773745</td>\n",
       "      <td>45.641478</td>\n",
       "    </tr>\n",
       "    <tr>\n",
       "      <th>7</th>\n",
       "      <td>XO8fn</td>\n",
       "      <td>-1.906649</td>\n",
       "      <td>-2.458350</td>\n",
       "      <td>-0.177097</td>\n",
       "      <td>72.480640</td>\n",
       "    </tr>\n",
       "    <tr>\n",
       "      <th>8</th>\n",
       "      <td>ybmQ5</td>\n",
       "      <td>1.776292</td>\n",
       "      <td>-0.279356</td>\n",
       "      <td>3.004156</td>\n",
       "      <td>106.616832</td>\n",
       "    </tr>\n",
       "    <tr>\n",
       "      <th>9</th>\n",
       "      <td>OilcN</td>\n",
       "      <td>-1.214452</td>\n",
       "      <td>-0.439314</td>\n",
       "      <td>5.922514</td>\n",
       "      <td>52.954532</td>\n",
       "    </tr>\n",
       "  </tbody>\n",
       "</table>\n",
       "</div>"
      ],
      "text/plain": [
       "      id        f0        f1        f2     product\n",
       "0  fwXo0 -1.146987  0.963328 -0.828965   27.758673\n",
       "1  WJtFt  0.262778  0.269839 -2.530187   56.069697\n",
       "2  ovLUW  0.194587  0.289035 -5.586433   62.871910\n",
       "3  q6cA6  2.236060 -0.553760  0.930038  114.572842\n",
       "4  WPMUX -0.515993  1.716266  5.899011  149.600746\n",
       "5  LzZXx -0.758092  0.710691  2.585887   90.222465\n",
       "6  WBHRv -0.574891  0.317727  1.773745   45.641478\n",
       "7  XO8fn -1.906649 -2.458350 -0.177097   72.480640\n",
       "8  ybmQ5  1.776292 -0.279356  3.004156  106.616832\n",
       "9  OilcN -1.214452 -0.439314  5.922514   52.954532"
      ]
     },
     "execution_count": 9,
     "metadata": {},
     "output_type": "execute_result"
    }
   ],
   "source": [
    "# previewing the first 10 rows from the region_2\n",
    "region_2.head(10)"
   ]
  },
  {
   "cell_type": "code",
   "execution_count": 10,
   "metadata": {},
   "outputs": [
    {
     "name": "stdout",
     "output_type": "stream",
     "text": [
      "<class 'pandas.core.frame.DataFrame'>\n",
      "RangeIndex: 100000 entries, 0 to 99999\n",
      "Data columns (total 5 columns):\n",
      " #   Column   Non-Null Count   Dtype  \n",
      "---  ------   --------------   -----  \n",
      " 0   id       100000 non-null  object \n",
      " 1   f0       100000 non-null  float64\n",
      " 2   f1       100000 non-null  float64\n",
      " 3   f2       100000 non-null  float64\n",
      " 4   product  100000 non-null  float64\n",
      "dtypes: float64(4), object(1)\n",
      "memory usage: 3.8+ MB\n"
     ]
    }
   ],
   "source": [
    "#We'll obtain the general information about the region_0 with info():\n",
    "region_0.info()"
   ]
  },
  {
   "cell_type": "code",
   "execution_count": 11,
   "metadata": {},
   "outputs": [
    {
     "name": "stdout",
     "output_type": "stream",
     "text": [
      "<class 'pandas.core.frame.DataFrame'>\n",
      "RangeIndex: 100000 entries, 0 to 99999\n",
      "Data columns (total 5 columns):\n",
      " #   Column   Non-Null Count   Dtype  \n",
      "---  ------   --------------   -----  \n",
      " 0   id       100000 non-null  object \n",
      " 1   f0       100000 non-null  float64\n",
      " 2   f1       100000 non-null  float64\n",
      " 3   f2       100000 non-null  float64\n",
      " 4   product  100000 non-null  float64\n",
      "dtypes: float64(4), object(1)\n",
      "memory usage: 3.8+ MB\n"
     ]
    }
   ],
   "source": [
    "#We'll obtain the general information about the region_1 with info():\n",
    "region_1.info()"
   ]
  },
  {
   "cell_type": "code",
   "execution_count": 12,
   "metadata": {
    "scrolled": true
   },
   "outputs": [
    {
     "name": "stdout",
     "output_type": "stream",
     "text": [
      "<class 'pandas.core.frame.DataFrame'>\n",
      "RangeIndex: 100000 entries, 0 to 99999\n",
      "Data columns (total 5 columns):\n",
      " #   Column   Non-Null Count   Dtype  \n",
      "---  ------   --------------   -----  \n",
      " 0   id       100000 non-null  object \n",
      " 1   f0       100000 non-null  float64\n",
      " 2   f1       100000 non-null  float64\n",
      " 3   f2       100000 non-null  float64\n",
      " 4   product  100000 non-null  float64\n",
      "dtypes: float64(4), object(1)\n",
      "memory usage: 3.8+ MB\n"
     ]
    }
   ],
   "source": [
    "#We'll obtain the general information about the region_2 with info():\n",
    "region_2.info()"
   ]
  },
  {
   "cell_type": "markdown",
   "metadata": {},
   "source": [
    "### Comment"
   ]
  },
  {
   "cell_type": "markdown",
   "metadata": {},
   "source": [
    "The 3 tables from the three regions are distributed in the following columns:\n",
    "\n",
    "- `'id'`: unique oil well identifier\n",
    "- `'f0 '`: features of points\n",
    "- `'f1'`: features of points\n",
    "- `'f2'`: features of points\n",
    "- `'product'`: volume of reserves in the oil well (thousand barrels).\n",
    "    \n",
    "All the tables  are store in 5 columns and 10000 entries with 0 int64, 4 float64 and 1 object data type. \n",
    "From the summary information that info() shows we don't see any missing values, and see a correct data types.\n",
    "The id column is not needed for the model itself, as it's just a unique identifier for each well. It doesn't provide any predictive value for modeling and should be excluded from the feature set when training the model. \n",
    "\n",
    "As it could be useful to evaluate each region individually for profit potential and risk, we don't consider to process the three tables combining them.\n"
   ]
  },
  {
   "cell_type": "markdown",
   "metadata": {},
   "source": [
    "<div style=\"border: 5px solid green; padding: 15px; margin: 5px\">\n",
    "<b>   Reviewer's comment </b>\n",
    "    \n",
    "Well done! \n",
    "\n",
    "</div>"
   ]
  },
  {
   "cell_type": "markdown",
   "metadata": {},
   "source": [
    "**1.4. Prepare the data**"
   ]
  },
  {
   "cell_type": "code",
   "execution_count": 13,
   "metadata": {},
   "outputs": [
    {
     "data": {
      "text/plain": [
       "id         0\n",
       "f0         0\n",
       "f1         0\n",
       "f2         0\n",
       "product    0\n",
       "dtype: int64"
      ]
     },
     "execution_count": 13,
     "metadata": {},
     "output_type": "execute_result"
    }
   ],
   "source": [
    "# calculating missing values for region_0\n",
    "region_0.isna().sum()"
   ]
  },
  {
   "cell_type": "code",
   "execution_count": 14,
   "metadata": {},
   "outputs": [
    {
     "data": {
      "text/plain": [
       "id         0\n",
       "f0         0\n",
       "f1         0\n",
       "f2         0\n",
       "product    0\n",
       "dtype: int64"
      ]
     },
     "execution_count": 14,
     "metadata": {},
     "output_type": "execute_result"
    }
   ],
   "source": [
    "# calculating missing values for region_1\n",
    "region_1.isna().sum()"
   ]
  },
  {
   "cell_type": "code",
   "execution_count": 15,
   "metadata": {},
   "outputs": [
    {
     "data": {
      "text/plain": [
       "id         0\n",
       "f0         0\n",
       "f1         0\n",
       "f2         0\n",
       "product    0\n",
       "dtype: int64"
      ]
     },
     "execution_count": 15,
     "metadata": {},
     "output_type": "execute_result"
    }
   ],
   "source": [
    "# calculating missing values for region_2\n",
    "region_2.isna().sum()"
   ]
  },
  {
   "cell_type": "code",
   "execution_count": 16,
   "metadata": {},
   "outputs": [
    {
     "data": {
      "text/plain": [
       "0"
      ]
     },
     "execution_count": 16,
     "metadata": {},
     "output_type": "execute_result"
    }
   ],
   "source": [
    "# counting duplicate rows for region_0\n",
    "duplicates_0 =region_0.duplicated()\n",
    "duplicates_0.sum()"
   ]
  },
  {
   "cell_type": "code",
   "execution_count": 17,
   "metadata": {},
   "outputs": [
    {
     "data": {
      "text/plain": [
       "0"
      ]
     },
     "execution_count": 17,
     "metadata": {},
     "output_type": "execute_result"
    }
   ],
   "source": [
    "# counting duplicate rows for region_1\n",
    "duplicates_1 =region_1.duplicated()\n",
    "duplicates_1.sum()"
   ]
  },
  {
   "cell_type": "code",
   "execution_count": 18,
   "metadata": {},
   "outputs": [
    {
     "data": {
      "text/plain": [
       "0"
      ]
     },
     "execution_count": 18,
     "metadata": {},
     "output_type": "execute_result"
    }
   ],
   "source": [
    "# counting duplicate rows for region_2\n",
    "duplicates_2 =region_2.duplicated()\n",
    "duplicates_2.sum()"
   ]
  },
  {
   "cell_type": "code",
   "execution_count": 19,
   "metadata": {
    "scrolled": true
   },
   "outputs": [
    {
     "data": {
      "text/plain": [
       "7530     HZww2\n",
       "41724    bxg6G\n",
       "51970    A5aEY\n",
       "63593    QcMuo\n",
       "66136    74z30\n",
       "69163    AGS9W\n",
       "75715    Tdehs\n",
       "90815    fiKDv\n",
       "92341    TtcGQ\n",
       "97785    bsk9y\n",
       "Name: id, dtype: object"
      ]
     },
     "execution_count": 19,
     "metadata": {},
     "output_type": "execute_result"
    }
   ],
   "source": [
    "# counting duplicate rows for region_0 in id column\n",
    "duplicated_ids_0 = region_0[region_0['id'].duplicated()]['id']\n",
    "duplicated_ids_0"
   ]
  },
  {
   "cell_type": "code",
   "execution_count": 20,
   "metadata": {
    "scrolled": true
   },
   "outputs": [
    {
     "data": {
      "text/plain": [
       "41906    LHZR0\n",
       "82178    bfPNe\n",
       "82873    wt4Uk\n",
       "84461    5ltQ6\n",
       "Name: id, dtype: object"
      ]
     },
     "execution_count": 20,
     "metadata": {},
     "output_type": "execute_result"
    }
   ],
   "source": [
    "# counting duplicate rows for region_1 in id column\n",
    "duplicated_ids_1 = region_1[region_1['id'].duplicated()]['id']\n",
    "duplicated_ids_1"
   ]
  },
  {
   "cell_type": "code",
   "execution_count": 21,
   "metadata": {},
   "outputs": [
    {
     "data": {
      "text/plain": [
       "43233    xCHr8\n",
       "49564    VF7Jo\n",
       "55967    KUPhW\n",
       "95090    Vcm5J\n",
       "Name: id, dtype: object"
      ]
     },
     "execution_count": 21,
     "metadata": {},
     "output_type": "execute_result"
    }
   ],
   "source": [
    "# counting duplicate rows for region_2 in id column\n",
    "duplicated_ids_2 = region_2[region_2['id'].duplicated()]['id']\n",
    "duplicated_ids_2"
   ]
  },
  {
   "cell_type": "markdown",
   "metadata": {},
   "source": [
    "<div style=\"border: 5px solid green; padding: 10px; margin: 5px\">\n",
    "<b>   Reviewer's comment </b>\n",
    "\n",
    "    \n",
    "Well done! It is indeed important to check data for the duplicates, since we are going to split the data. You can also check for the duplicates in the `id` columns. We do not need to delete them, since these columns will not be considered, and we can interpret these points as different objects.     \n",
    "</div>\n",
    "<div style=\"border: 5px solid red; padding: 10px; margin: 5px\">\n",
    "<b>   Reviewer's comment </b>\n",
    "\n",
    "    \n",
    "- Let's analyze the distributions of features and targets in each dataframe.  Would you add charts? Please don't forget to add titles and axes labels. \n",
    "\n",
    "\n",
    "- Don't forget to add conclusions.</div>"
   ]
  },
  {
   "cell_type": "markdown",
   "metadata": {},
   "source": [
    "### **Feature and Target Distribution Plots for region_0**"
   ]
  },
  {
   "cell_type": "code",
   "execution_count": 59,
   "metadata": {},
   "outputs": [
    {
     "data": {
      "image/png": "[encoded data removed]",
      "text/plain": [
       "<Figure size 600x400 with 1 Axes>"
      ]
     },
     "metadata": {},
     "output_type": "display_data"
    },
    {
     "data": {
      "image/png": "[encoded data removed]",
      "text/plain": [
       "<Figure size 600x400 with 1 Axes>"
      ]
     },
     "metadata": {},
     "output_type": "display_data"
    },
    {
     "data": {
      "image/png": "[encoded data removed]",
      "text/plain": [
       "<Figure size 600x400 with 1 Axes>"
      ]
     },
     "metadata": {},
     "output_type": "display_data"
    },
    {
     "data": {
      "image/png": "[encoded data removed]",
      "text/plain": [
       "<Figure size 600x400 with 1 Axes>"
      ]
     },
     "metadata": {},
     "output_type": "display_data"
    }
   ],
   "source": [
    "# Plotting histograms for each column in Region 0\n",
    "for column in region_0.select_dtypes(include='number').columns:\n",
    "    plt.figure(figsize=(6, 4))\n",
    "    sns.histplot(region_0[column], bins=30)\n",
    "    plt.title(f'Distribution of {column} in Region 0')\n",
    "    plt.xlabel(column)\n",
    "    plt.ylabel('Frequency')\n",
    "    plt.grid(True)\n",
    "    plt.tight_layout()\n",
    "    plt.show()"
   ]
  },
  {
   "cell_type": "markdown",
   "metadata": {},
   "source": [
    "### Comment - Feature and Target Distributions – Region 0\n",
    "\n",
    "#### Feature `f0`\n",
    "The distribution of f0 is irregular and multimodal, with several distinct peaks and valleys. It starts near -1.5, rises to a peak around 4,000, dips near -0.6, then rises again to a second peak around 6,000 near 0.1. This pattern of alternating highs and lows continues across the axis, indicating a non-normal and possibly clustered feature behavior.\n",
    "#### Feature `f1`\n",
    "The f1 distribution  is also multimodal with multiple moderate peaks. It starts at -0.6, rises to about 5,000, then dips and rises again repeatedly across the feature range. Looks more symmetrical than f0, suggesting some consistency, but still not a standard distribution.\n",
    "\n",
    "#### Feature `f2`\n",
    "This feature is more like a normal distribution, peaking sharply around 10,800 near the center of the axis and tapering off smoothly toward both extremes. This indicates a well-balanced and symmetric variable—ideal for most modeling approaches.\n",
    "\n",
    "#### Target: `product`\n",
    "The product distribution shows a multimodal pattern, starting slowly at low values, rising steadily to about 3,600 at product value 30, then forming four rounded peaks around 4,600. Toward the higher end of the range, the distribution smoothly declines, suggesting that while high production is possible, it is less frequent than mid-range values."
   ]
  },
  {
   "cell_type": "markdown",
   "metadata": {},
   "source": [
    "### **Feature and Target Distribution Plots for region_1**"
   ]
  },
  {
   "cell_type": "code",
   "execution_count": 23,
   "metadata": {
    "scrolled": true
   },
   "outputs": [
    {
     "data": {
      "image/png": "[encoded data removed]",
      "text/plain": [
       "<Figure size 600x400 with 1 Axes>"
      ]
     },
     "metadata": {},
     "output_type": "display_data"
    },
    {
     "data": {
      "image/png": "[encoded data removed]",
      "text/plain": [
       "<Figure size 600x400 with 1 Axes>"
      ]
     },
     "metadata": {},
     "output_type": "display_data"
    },
    {
     "data": {
      "image/png": "[encoded data removed]",
      "text/plain": [
       "<Figure size 600x400 with 1 Axes>"
      ]
     },
     "metadata": {},
     "output_type": "display_data"
    },
    {
     "data": {
      "image/png": "[encoded data removed]",
      "text/plain": [
       "<Figure size 600x400 with 1 Axes>"
      ]
     },
     "metadata": {},
     "output_type": "display_data"
    }
   ],
   "source": [
    "# Plotting histograms for each column in Region 1\n",
    "for column in region_1.select_dtypes(include='number').columns:\n",
    "    plt.figure(figsize=(6, 4))\n",
    "    sns.histplot(region_1[column], bins=30)\n",
    "    plt.title(f'Distribution of {column} in Region 1')\n",
    "    plt.xlabel(column)\n",
    "    plt.ylabel('Frequency')\n",
    "    plt.grid(True)\n",
    "    plt.tight_layout()\n",
    "    plt.show()"
   ]
  },
  {
   "cell_type": "markdown",
   "metadata": {},
   "source": [
    "### Comment - Feature and Target Distributions – Region 1\n",
    "#### Feature `f0`\n",
    "The distribution of f0 appears multimodal, with an initial peak around -29 (reaching approximately 8,100 counts), a dip near -15, and a second peak close to 0, again reaching 8,000. After that, the frequency decreases steadily toward the maximum value (~30). This suggests that f0 might represent data from more than one process.\n",
    "\n",
    "#### Feature `f1`\n",
    "The distribution of f1 is approximately normally distributed, with a central peak at 0 reaching almost 11,900 counts, and symmetric tails that drop off on both sides. This typical bell-shaped curve indicates that f1 is well-balanced around the mean and might be well-suited for linear modeling.\n",
    "\n",
    "#### Feature `f2`\n",
    "The histogram shows two very high peaks at the edges and a cluster of lower bars in the middle. The tallest bars (~16,500) are at the beginning and end, while the central bars lie between 12,000 and 14,000. This suggests that most values of f2 are concentrated toward the minimum and maximum, with fewer observations in between.\n",
    "\n",
    "#### Target: `product`\n",
    "The target variable shows a bimodal distribution: the first and last bars reach about 16,300, while all the middle bars are evenly distributed around 8,100. This suggests that oil production values tend to cluster at very low and very high values, which may complicate modeling or indicate two distinct well behaviors.\n"
   ]
  },
  {
   "cell_type": "markdown",
   "metadata": {},
   "source": [
    "### **Feature and Target Distribution Plots for region 2**"
   ]
  },
  {
   "cell_type": "code",
   "execution_count": 24,
   "metadata": {
    "scrolled": true
   },
   "outputs": [
    {
     "data": {
      "image/png": "[encoded data removed]",
      "text/plain": [
       "<Figure size 600x400 with 1 Axes>"
      ]
     },
     "metadata": {},
     "output_type": "display_data"
    },
    {
     "data": {
      "image/png": "[encoded data removed]",
      "text/plain": [
       "<Figure size 600x400 with 1 Axes>"
      ]
     },
     "metadata": {},
     "output_type": "display_data"
    },
    {
     "data": {
      "image/png": "[encoded data removed]",
      "text/plain": [
       "<Figure size 600x400 with 1 Axes>"
      ]
     },
     "metadata": {},
     "output_type": "display_data"
    },
    {
     "data": {
      "image/png": "[encoded data removed]",
      "text/plain": [
       "<Figure size 600x400 with 1 Axes>"
      ]
     },
     "metadata": {},
     "output_type": "display_data"
    }
   ],
   "source": [
    "# Plotting histograms for each column in Region 2\n",
    "for column in region_2.select_dtypes(include='number').columns:\n",
    "    plt.figure(figsize=(6, 4))\n",
    "    sns.histplot(region_2[column], bins=30)\n",
    "    plt.title(f'Distribution of {column} in Region 2')\n",
    "    plt.xlabel(column)\n",
    "    plt.ylabel('Frequency')\n",
    "    plt.grid(True)\n",
    "    plt.tight_layout()\n",
    "    plt.show()"
   ]
  },
  {
   "cell_type": "markdown",
   "metadata": {},
   "source": [
    "### Comment - Feature and Target Distributions – Region 2\n",
    "#### Feature `f0`\n",
    "The distribution of f0 is approximately normal, starting near -8.5 with a steady rise, peaking around 12,100 counts close to 0, and then symmetrically decreasing toward 7.1. This indicates that f0 values are centered and balanced around the mean, which is favorable for many statistical models.\n",
    "#### Feature `f1`\n",
    "The f1 feature also displays a normal distribution, beginning at -7.1, peaking at approximately 11,500 near 0, and tapering off toward 8. This bell-shaped curve confirms a stable and centered distribution, suggesting consistency in the underlying data generation process.\n",
    "#### Feature `f2`\n",
    "The distribution of f2 follows a normal shape as well, with values starting around -13, peaking at about 11,000 near 0, and declining toward 16. This consistent bell curve suggests f2 is well-behaved and symmetric—ideal for many types of analysis.\n",
    "\n",
    "#### Target: `product`\n",
    "The product distribution is more complex. It starts with a low, smooth rise from 0 to 30 (reaching ~3,600), followed by four more pronounced curves, each reaching around 5,000. The final few intervals decrease gradually, mirroring the initial ones. This indicates a multimodal distribution, possibly reflecting several patterns or groups in production behavior.\n"
   ]
  },
  {
   "cell_type": "markdown",
   "metadata": {},
   "source": [
    "## Summary\n",
    "* Region 0 shows the most varied and non-standard distributions in features f0 and f1, but has a normally distributed f2 and a well-behaved target variable.\n",
    "\n",
    "* Region 1 has a normal f1, but more irregularity in f0 and f2, and its target variable shows unusual uniformity, which may affect predictability.\n",
    "\n",
    "* Region 2 stands out with all features (f0, f1, f2) following normal distributions, which is ideal for most machine learning models. The target also behaves predictably, with a concentration around mid-values.\n"
   ]
  },
  {
   "cell_type": "markdown",
   "metadata": {},
   "source": [
    "<div style=\"border: 5px solid green; padding: 15px; margin: 5px\">\n",
    "<b>   Reviewer's comment 2 </b>\n",
    "    \n",
    "    \n",
    "Excellent! Why is this important? In real-world problems, the data is rarely clean. Displaying distributions help us evaluate the data, find outliers, identify the required preprocessing steps and understand feature relationships, which informs feature engineering. Feature engineering in some cases is a clue.\n",
    "\n",
    "</div>"
   ]
  },
  {
   "cell_type": "markdown",
   "metadata": {},
   "source": [
    "## 2. Train and test the model for each region:"
   ]
  },
  {
   "cell_type": "markdown",
   "metadata": {},
   "source": [
    "**2.1. Split the data into a training set and validation set at a ratio of 75:25.**"
   ]
  },
  {
   "cell_type": "markdown",
   "metadata": {},
   "source": [
    "**Region 0**"
   ]
  },
  {
   "cell_type": "code",
   "execution_count": 25,
   "metadata": {},
   "outputs": [],
   "source": [
    "# Region 0\n",
    "features_0 = region_0.drop(['id', 'product'], axis=1)\n",
    "target_0 = region_0['product']\n",
    "features_train_0, features_valid_0, target_train_0, target_valid_0 = train_test_split(\n",
    "    features_0, target_0, test_size=0.25, random_state=12345\n",
    ")"
   ]
  },
  {
   "cell_type": "markdown",
   "metadata": {},
   "source": [
    "**Region 1**"
   ]
  },
  {
   "cell_type": "code",
   "execution_count": 26,
   "metadata": {},
   "outputs": [],
   "source": [
    "# Region 1\n",
    "features_1 = region_1.drop(['id', 'product'], axis=1)\n",
    "target_1 = region_1['product']\n",
    "features_train_1, features_valid_1, target_train_1, target_valid_1 = train_test_split(\n",
    "    features_1, target_1, test_size=0.25, random_state=12345\n",
    ")"
   ]
  },
  {
   "cell_type": "markdown",
   "metadata": {},
   "source": [
    "**Region 2**"
   ]
  },
  {
   "cell_type": "code",
   "execution_count": 27,
   "metadata": {},
   "outputs": [],
   "source": [
    "# Region 2\n",
    "features_2 = region_2.drop(['id', 'product'], axis=1)\n",
    "target_2 = region_2['product']\n",
    "features_train_2, features_valid_2, target_train_2, target_valid_2 = train_test_split(\n",
    "    features_2, target_2, test_size=0.25, random_state=12345\n",
    ")"
   ]
  },
  {
   "cell_type": "markdown",
   "metadata": {},
   "source": [
    "**2.2. Train the model and make predictions for the validation set.**"
   ]
  },
  {
   "cell_type": "markdown",
   "metadata": {},
   "source": [
    "**2.3. Save the predictions and correct answers for the validation set.**"
   ]
  },
  {
   "cell_type": "code",
   "execution_count": 28,
   "metadata": {},
   "outputs": [],
   "source": [
    "# using a function to handle all three regions\n",
    "def train_and_evaluate(features_train, target_train, features_valid, target_valid):\n",
    "    model = LinearRegression()\n",
    "    model.fit(features_train, target_train)\n",
    "    predictions = model.predict(features_valid)\n",
    "    rmse = mean_squared_error(target_valid, predictions, squared=False)\n",
    "    return model, predictions, rmse"
   ]
  },
  {
   "cell_type": "markdown",
   "metadata": {},
   "source": [
    "**Region 0**"
   ]
  },
  {
   "cell_type": "code",
   "execution_count": 29,
   "metadata": {},
   "outputs": [],
   "source": [
    "# Region 0\n",
    "# Predict and evaluate\n",
    "# get model predictions on validation set\n",
    "model_0, predictions_valid_0, rmse_0 = train_and_evaluate(features_train_0, target_train_0,\n",
    "                                                          features_valid_0, target_valid_0)\n"
   ]
  },
  {
   "cell_type": "markdown",
   "metadata": {},
   "source": [
    "**Region 1**"
   ]
  },
  {
   "cell_type": "code",
   "execution_count": 30,
   "metadata": {},
   "outputs": [],
   "source": [
    "# Region 1\n",
    "# Predict and evaluate\n",
    "# get model predictions on validation set\n",
    "model_1, predictions_valid_1, rmse_1 = train_and_evaluate(features_train_1, target_train_1,\n",
    "                                                          features_valid_1, target_valid_1)\n"
   ]
  },
  {
   "cell_type": "markdown",
   "metadata": {},
   "source": [
    "**Region 2**"
   ]
  },
  {
   "cell_type": "code",
   "execution_count": 31,
   "metadata": {},
   "outputs": [],
   "source": [
    "# Region 2\n",
    "# Predict and evaluate\n",
    "# get model predictions on validation set\n",
    "model_2, predictions_valid_2, rmse_2 = train_and_evaluate(features_train_2, target_train_2,\n",
    "                                                          features_valid_2, target_valid_2)\n"
   ]
  },
  {
   "cell_type": "markdown",
   "metadata": {},
   "source": [
    "<div style=\"border: 5px solid green; padding: 15px; margin: 5px\">\n",
    "<b>   Reviewer's comment 2 </b>\n",
    "    \n",
    "    \n",
    "Perfect! \n",
    "</div><div style=\"border: 5px solid green; padding: 15px; margin: 5px\">\n",
    "<b>   Reviewer's comment </b>\n",
    "    \n",
    "\n",
    "Correct!\n",
    "\n",
    "\n",
    "</div>\n",
    "<div style=\"border: 5px solid gold; padding: 15px; margin: 5px\">\n",
    "<b>   Reviewer's comment </b>\n",
    "    \n",
    "You can use a loop or a function, since the code is the same for all three regions. Not only will it make the code  shorter and easier to read, it will help you avoid typos.\n",
    "</div>"
   ]
  },
  {
   "cell_type": "markdown",
   "metadata": {},
   "source": [
    "**2.4. Print the average volume of predicted reserves and model RMSE.**"
   ]
  },
  {
   "cell_type": "markdown",
   "metadata": {},
   "source": [
    "**Region 0**"
   ]
  },
  {
   "cell_type": "code",
   "execution_count": 32,
   "metadata": {},
   "outputs": [
    {
     "data": {
      "text/plain": [
       "92.59256778438035"
      ]
     },
     "execution_count": 32,
     "metadata": {},
     "output_type": "execute_result"
    }
   ],
   "source": [
    "#calculate the average of the predictions for Region 0\n",
    "predictions_valid_0.mean()"
   ]
  },
  {
   "cell_type": "code",
   "execution_count": 33,
   "metadata": {},
   "outputs": [
    {
     "data": {
      "text/plain": [
       "92.07859674082927"
      ]
     },
     "execution_count": 33,
     "metadata": {},
     "output_type": "execute_result"
    }
   ],
   "source": [
    "target_valid_0.mean()"
   ]
  },
  {
   "cell_type": "markdown",
   "metadata": {},
   "source": [
    "**Region 1**"
   ]
  },
  {
   "cell_type": "code",
   "execution_count": 34,
   "metadata": {},
   "outputs": [
    {
     "data": {
      "text/plain": [
       "68.728546895446"
      ]
     },
     "execution_count": 34,
     "metadata": {},
     "output_type": "execute_result"
    }
   ],
   "source": [
    "#calculate the average of the predictions for Region 1\n",
    "predictions_valid_1.mean()"
   ]
  },
  {
   "cell_type": "code",
   "execution_count": 35,
   "metadata": {},
   "outputs": [
    {
     "data": {
      "text/plain": [
       "68.72313602435997"
      ]
     },
     "execution_count": 35,
     "metadata": {},
     "output_type": "execute_result"
    }
   ],
   "source": [
    "target_valid_1.mean()"
   ]
  },
  {
   "cell_type": "markdown",
   "metadata": {},
   "source": [
    "**Region 2**"
   ]
  },
  {
   "cell_type": "code",
   "execution_count": 36,
   "metadata": {},
   "outputs": [
    {
     "data": {
      "text/plain": [
       "94.96504596800489"
      ]
     },
     "execution_count": 36,
     "metadata": {},
     "output_type": "execute_result"
    }
   ],
   "source": [
    "#calculate the average of the predictions for Region 2\n",
    "predictions_valid_2.mean()"
   ]
  },
  {
   "cell_type": "code",
   "execution_count": 37,
   "metadata": {},
   "outputs": [
    {
     "data": {
      "text/plain": [
       "94.88423280885438"
      ]
     },
     "execution_count": 37,
     "metadata": {},
     "output_type": "execute_result"
    }
   ],
   "source": [
    "target_valid_2.mean()"
   ]
  },
  {
   "cell_type": "markdown",
   "metadata": {},
   "source": [
    "**RMSE.**"
   ]
  },
  {
   "cell_type": "code",
   "execution_count": 38,
   "metadata": {},
   "outputs": [
    {
     "name": "stdout",
     "output_type": "stream",
     "text": [
      "Region 0 - RMSE: 37.58\n",
      "Region 1 - RMSE: 0.89\n",
      "Region 2 - RMSE: 40.03\n"
     ]
    }
   ],
   "source": [
    "results = {\n",
    "    \"Region 0\": rmse_0,\n",
    "    \"Region 1\": rmse_1,\n",
    "    \"Region 2\": rmse_2\n",
    "}\n",
    "\n",
    "for region, rmse in results.items():\n",
    "    print(f\"{region} - RMSE: {rmse:.2f}\")"
   ]
  },
  {
   "cell_type": "markdown",
   "metadata": {},
   "source": [
    "**2.5. Analyze the results.**"
   ]
  },
  {
   "cell_type": "markdown",
   "metadata": {},
   "source": [
    "**For Region 0:** \n",
    "\n",
    "- Average predicted reserves: 92.59 thousand barrels\n",
    "- Average real reserves: 92.08 thousand barrels\n",
    "This means the model predicts values very close to the actual average.\n",
    "\n",
    "For RMSE: 37.58\n",
    "- On average, the model is off by ±37.6 thousand barrels, considering that the average prediction is ~92.6, the error is quite large — around 40% of the average prediction, wich doesn’t necessarily make the model unusable, but it does reflect a fair amount of uncertainty.\n",
    "\n",
    "**For Region 1:**\n",
    "\n",
    "- Average predicted reserves: 68.73 thousand barrels\n",
    "\n",
    "- Average real reserves: 68.72 thousand barrels\n",
    "\n",
    "Excellent alignment between predicted and real values a well in Region 1.\n",
    "\n",
    "For RMSE: 0.89\n",
    "\n",
    "On average, the model is off by ±0.89 thousand barrels, considering that the average prediction is ~68.7, the error of ~1% of the average prediction, which might be a usable model if the data is accurate for this region.\n",
    "\n",
    "**For Region 2:**\n",
    "\n",
    "- Average predicted reserves: 94.97 thousand barrels\n",
    "- Average real reserves: 94.88 thousand barrels\n",
    "\n",
    "Predictions are very close to the actual average. \n",
    "\n",
    "For RMSE: ~40.03\n",
    "\n",
    "On average, the model is off by ±40.03 thousand barrels, considering that the average prediction is ~94.97, the error of ~40% of the average prediction, which doesn’t necessarily make the model unusable, but it does reflect a fair amount of uncertainty for this region.\n",
    "\n",
    "In overall, Region 1 has is suspiciously low compared to the others that make us think that we will will have to check on it later to see if there is not a data leakage,  also this region has a high confidence in prediction, Region 2 has the highest yield, but also high uncertainty and Region 0 is between the two."
   ]
  },
  {
   "cell_type": "markdown",
   "metadata": {},
   "source": [
    "<div style=\"border: 5px solid green; padding: 15px; margin: 5px\">\n",
    "<b>   Reviewer's comment </b>\n",
    "    \n",
    "\n",
    "Correct! Region 2 is the most profitable, but it has the highest model error at the same time. \n",
    "\n",
    "\n",
    "</div>\n",
    "<div style=\"border: 5px solid gold; padding: 15px; margin: 5px\">\n",
    "<b>   Reviewer's comment </b>\n",
    "    \n",
    "It may also be useful to print the average amount of real reserves.    \n",
    "    \n",
    "</div>"
   ]
  },
  {
   "cell_type": "markdown",
   "metadata": {},
   "source": [
    "## 3. Prepare for profit calculation:"
   ]
  },
  {
   "cell_type": "markdown",
   "metadata": {},
   "source": [
    "**3.1. Store all key values for calculations in separate variables.**"
   ]
  },
  {
   "cell_type": "markdown",
   "metadata": {},
   "source": [
    "**3.2. Calculate the volume of reserves sufficient for developing a new well without losses. Compare the obtained value with the average volume of reserves in each region.**"
   ]
  },
  {
   "cell_type": "code",
   "execution_count": 39,
   "metadata": {},
   "outputs": [
    {
     "data": {
      "text/plain": [
       "500000.0"
      ]
     },
     "execution_count": 39,
     "metadata": {},
     "output_type": "execute_result"
    }
   ],
   "source": [
    "#What is the minimum amount of oil a well must produce so that it pays for itself\n",
    "\n",
    "cost_per_well = BUDGET/WELLS_TO_DEVELOP\n",
    "cost_per_well"
   ]
  },
  {
   "cell_type": "code",
   "execution_count": 40,
   "metadata": {},
   "outputs": [
    {
     "data": {
      "text/plain": [
       "111.11111111111111"
      ]
     },
     "execution_count": 40,
     "metadata": {},
     "output_type": "execute_result"
    }
   ],
   "source": [
    "min_product = cost_per_well/PRICE_PER_UNIT\n",
    "min_product"
   ]
  },
  {
   "cell_type": "markdown",
   "metadata": {},
   "source": [
    " This means each well needs to produce at least ~111.1 thousand barrels to have break-even point or to avoid a loss."
   ]
  },
  {
   "cell_type": "markdown",
   "metadata": {},
   "source": [
    "<div style=\"border: 5px solid green; padding: 15px; margin: 5px\">\n",
    "<b>   Reviewer's comment </b>\n",
    "    \n",
    "\n",
    "Correct!\n",
    "\n",
    "</div>\n",
    "\n",
    "<div style=\"border: 5px solid gold; padding: 15px; margin: 5px\">\n",
    "<b> Reviewer's comment </b>\n",
    "    \n",
    "\n",
    "Constant values should be defined in the upper case and in the very beginning of the project.  \n",
    "    \n",
    "</div>\n"
   ]
  },
  {
   "cell_type": "markdown",
   "metadata": {},
   "source": [
    "### Compare the obtained value with the average volume of reserves in each region."
   ]
  },
  {
   "cell_type": "markdown",
   "metadata": {},
   "source": [
    "When comparing the average predicted reserves for each region we have:\n",
    "\n",
    "Region 0: 92.59 < 111.11 , which is below break-even\n",
    "\n",
    "Region 1: 68.73 < 111.11 , which is below break-even\n",
    "\n",
    "Region 2: 94.97 < 111.11 , which is also below break-even\n",
    "\n",
    "So at this stage, none of the regions are profitable on average."
   ]
  },
  {
   "cell_type": "markdown",
   "metadata": {},
   "source": [
    "**3.3.Provide the findings about the preparation for profit calculation step.**"
   ]
  },
  {
   "cell_type": "markdown",
   "metadata": {},
   "source": [
    "To avoid losses, a well must produce at least 111.1 thousand barrels. Region 1 has an average of 68.7, which is below this threshold, suggesting it may not be profitable. Region 2 averages 94.9 and Region 0 averages 92.6, which both are closer, but still below break-even. This implies careful well selection is necessary, and profit depends on choosing the best 200 wells."
   ]
  },
  {
   "cell_type": "markdown",
   "metadata": {},
   "source": [
    "<div style=\"border: 5px solid red; padding: 15px; margin: 5px\">\n",
    "<b>   Reviewer's comment </b>\n",
    "\n",
    "Let's compare the break-even with the actual (target) average volume in each region because predictions are not necessarily accurate.\n",
    "    \n",
    "</div>"
   ]
  },
  {
   "cell_type": "markdown",
   "metadata": {},
   "source": [
    "Although the model predictions give us an estimate of expected reserves in each region, it is crucial to also examine the actual average volumes from the validation sets. We find that:\n",
    "\n",
    "**Break-even Volume:** 111.1\n",
    "\n",
    "**For Region 0:** has an average real volume of 92.1 thousand barrels, which is below the break-even point of 111.1.\n",
    "  \n",
    "**For Region 1:** has an even lower real average of 68.7, far below the break-even threshold.\n",
    "\n",
    "**For Region 2:** has the highest average at 94.9, but it is still below the minimum required for profitability.\n",
    "\n",
    "These results indicate that none of the regions meet the break-even volume when considering actual reserves. This reinforces the importance of factoring in economic thresholds and real data (not just predictions) when deciding where to invest.\n",
    "\n",
    "\n"
   ]
  },
  {
   "cell_type": "markdown",
   "metadata": {},
   "source": [
    "<div style=\"border: 5px solid green; padding: 15px; margin: 5px\">\n",
    "<b>   Reviewer's comment 2 </b>\n",
    "    \n",
    "\n",
    "\n",
    "So the average volumes in these three regions are less than the required value. If we are to select the wells randomly, we are probably going to lose money. That's why we need machine learning and bootstrapping to estimate profit distributions. \n",
    "    \n",
    "    \n",
    "</div>"
   ]
  },
  {
   "cell_type": "markdown",
   "metadata": {},
   "source": [
    "## 4. Write a function to calculate profit from a set of selected oil wells and model predictions:"
   ]
  },
  {
   "cell_type": "markdown",
   "metadata": {},
   "source": [
    "**4.1. Pick the wells with the highest values of predictions.**"
   ]
  },
  {
   "cell_type": "markdown",
   "metadata": {},
   "source": [
    "**4.2. Summarize the target volume of reserves in accordance with these predictions**"
   ]
  },
  {
   "cell_type": "code",
   "execution_count": 41,
   "metadata": {},
   "outputs": [],
   "source": [
    "#creating the function\n",
    "\n",
    "#Given values\n",
    "WELLS_TO_DEVELOP\n",
    "PRICE_PER_UNIT\n",
    "BUDGET\n",
    "\n",
    "def calculate_profit(predictions, target):\n",
    "#Creating a dataframe with the predicted and the actual values\n",
    "    df=pd.DataFrame({'predicted': predictions, 'real': target})\n",
    "\n",
    "    #sorting by predicted reserves in descending order\n",
    "    top_wells = df.sort_values(by='predicted', ascending=False).head(WELLS_TO_DEVELOP)\n",
    "\n",
    "    #calculating total revenue from real reserves of the best wels \n",
    "    total_revenue = top_wells['real'].sum() * PRICE_PER_UNIT\n",
    "    #calculating profit when substractin the budget\n",
    "    profit = total_revenue - BUDGET\n",
    "\n",
    "    return profit\n"
   ]
  },
  {
   "cell_type": "markdown",
   "metadata": {},
   "source": [
    "<div style=\"border: 5px solid green; padding: 10px; margin: 5px\">\n",
    "<b>   Reviewer's comment </b>\n",
    "    \n",
    "\n",
    "\n",
    "Correct! We select the best 200 wells by predictions, but then we need to use target values to actually calculate profit because predictions may not be accurate. \n",
    "\n",
    "</div>\n",
    "<div style=\"border: 5px solid gold; padding: 10px; margin: 5px\">\n",
    "<b>   Reviewer's comment </b>\n",
    "    \n",
    "\n",
    "\n",
    "If you aim to use these projects in your portfolio, please avoid using AI-generated code and text. It will not help you get a job interview, not to mention it can hinder learning process and practicing critical thinking skills. AI-generated code is often easy to identify, especially for experienced developers, so your projects should not contain such code if possible. Last but not least, AI-generated code often fails or contains errors when the prompt is vague, and those who do not fully understand the task are less likely to provide precise instructions. By the way, please refer to our AI usage and plagiarism policy. \n",
    "</div>"
   ]
  },
  {
   "cell_type": "markdown",
   "metadata": {},
   "source": [
    "<div class=\"alert alert-info\"> First of all, I would like to thank you for the comment about the use of AI, since this topic is something that has made a great impression on me since this and the last sprint, which was literally when I began to explore it, given that I am really more traditional in my learning process and I have always chosen to look for more conventional alternatives such as the use of tutorial videos, attending the open tutoring sessions offered by the program, the 1/1 sesin and, consulting Dot through the Discord platform, which I realize later on that was also an AI offered by the program. So, in order to explain you a little bit more about my context, and with all my respect, I would like to comment that when I was consultin the AI, I was not seeing the difference between having a consultation with a tutor, who sometimes, based on my experience, asked me to share control of my screen to copy a code, or even sent them via chat or messages without even explaining them to me. Also, the platform's Dot tool sometimes provides us with codes for many topics that we don't yet understand well. Last but not least, within the development and study of the lessons, we find that there are some topics that must be completed for us without even having seen anything similar, which indicates that we should search for this information on our own. \n",
    "Based on the above I just wanna let you know that I really used the AI as a guide to get deeper in those topics (function and loops) that I have feeld stuck, but Is true that I didn't do my effort to rewrite the code on my own in the way I have understood; now I'll be more concient and careful when it's usage avoing any kind of copy and I think I corrected this code aplying what I said.\n",
    "Based on your vast experience in this field, I'll apreciate If you have aditionals sugestions for me that tell me of the efficient use of the AI that does not give these indications that an exercise or project has been plagiarized.\n",
    "I thank you again in advance for your time and valuable comments.   </div>   "
   ]
  },
  {
   "cell_type": "markdown",
   "metadata": {},
   "source": [
    "<div style=\"border: 5px solid green; padding: 15px; margin: 5px\">\n",
    "<b>   Reviewer's comment 2 </b>\n",
    "    \n",
    "Please don't get me wrong. Actually AI are great tools. However, we should remember that these are just tools :) I only want to recommend you adjusting the code if you take it. This is only because a person who look at your portfolio may think you don't complete the projects by yourself, while you actually invested a huge amount of time reading the leactures, practicing, solving tasks, and communicating with tutors. So a small function copied from AI may make one think you just copied the whole project, while in reality you were the one who designed the solution and wrote conclusions, but you just might took a small piece of code that you asked AI to optimize, not even write. This would be a very unfair situation in my opinion. \n",
    "    \n",
    "\n",
    "> I would like to comment that when I was consultin the AI, I was not seeing the difference between having a consultation with a tutor, who sometimes, based on my experience, asked me to share control of my screen to copy a code, or even sent them via chat or messages without even explaining them to me. Also, the platform's Dot tool sometimes provides us with codes for many topics that we don't yet understand well. Last but not least, within the development and study of the lessons, we find that there are some topics that must be completed for us without even having seen anything similar, which indicates that we should search for this information on our own.\n",
    "\n",
    "\n",
    "Understood. I'll let our team know that our lectures and probably the overall approach should be adjusted. Thanks for your feedback! \n",
    "\n",
    "\n",
    "> Based on your vast experience in this field, I'll apreciate If you have aditionals sugestions for me that tell me of the efficient use of the AI that does not give these indications that an exercise or project has been plagiarized.\n",
    "\n",
    "Consider excluding redundant comments, especially those with \"Step 1\", \"Step 2\". Make sure AI's code does not do anything you definitely don't need. For instance, if the prompt does not describe the data clearly, AI may add extra steps such as deleting inf values, while you know for sure your data does not have any. It may also repeat the code if it does not remember the context. Claude models are currently the best coding models, but they are also not perfect :) OpenAI models are the best reasoning models in my opinion. They are good in math and working with documents. Image generation is also great, though not perfect.  \n",
    "\n",
    "\n",
    "\n",
    "I highly recommend this [GPT-4.1 Prompting Guide](https://cookbook.openai.com/examples/gpt4-1_prompting_guide), [Reasoning best practices artice](https://platform.openai.com/docs/guides/reasoning-best-practices) by OpenAI. \n",
    "\n",
    "\n",
    "\n",
    "[Prompt Engineering Guide](https://www.gptaiflow.tech/assets/files/2025-01-18-pdf-1-TechAI-Goolge-whitepaper_Prompt%20Engineering_v4-af36dcc7a49bb7269a58b1c9b89a8ae1.pdf) by Google.\n",
    "\n",
    "\n",
    "Another interesting tool is [PandasAI](https://github.com/sinaptik-ai/pandas-ai). You only need to import it in your project, then just write a prompt and it will conduct data analysis. Good thing to basic tasks that you don't want to spend time on. \n",
    "\n",
    "\n",
    "[Prompt Library](https://www.promptly.fyi/library) for different purposes. \n",
    "\n",
    "\n",
    "\n",
    "These are quite useful resourses. I hope you will like it :) \n",
    "\n",
    "\n",
    "\n",
    "Oh, one more interesting thing. Google has recently updated their video generation model. You have to check it out, it's unbelievable! It's called VEO 3. It generates both video with sounds and speech. It's so realistic! You can find videos on YouTube.  </div>"
   ]
  },
  {
   "cell_type": "markdown",
   "metadata": {},
   "source": [
    "**Applying the function:**"
   ]
  },
  {
   "cell_type": "markdown",
   "metadata": {},
   "source": [
    "**4.3.Calculate the profit for the obtained volume of reserves.**"
   ]
  },
  {
   "cell_type": "markdown",
   "metadata": {},
   "source": [
    "**Region 0**"
   ]
  },
  {
   "cell_type": "code",
   "execution_count": 42,
   "metadata": {},
   "outputs": [
    {
     "data": {
      "text/plain": [
       "33208260.43139851"
      ]
     },
     "execution_count": 42,
     "metadata": {},
     "output_type": "execute_result"
    }
   ],
   "source": [
    "profit_0 = calculate_profit(\n",
    "    predictions=predictions_valid_0,\n",
    "    target=target_valid_0\n",
    ")\n",
    "profit_0"
   ]
  },
  {
   "cell_type": "markdown",
   "metadata": {},
   "source": [
    "**Region 1**"
   ]
  },
  {
   "cell_type": "code",
   "execution_count": 43,
   "metadata": {},
   "outputs": [
    {
     "data": {
      "text/plain": [
       "24150866.966815114"
      ]
     },
     "execution_count": 43,
     "metadata": {},
     "output_type": "execute_result"
    }
   ],
   "source": [
    "profit_1 = calculate_profit(\n",
    "    predictions=predictions_valid_1,\n",
    "    target=target_valid_1\n",
    ")\n",
    "profit_1"
   ]
  },
  {
   "cell_type": "markdown",
   "metadata": {},
   "source": [
    "**Region 2**"
   ]
  },
  {
   "cell_type": "code",
   "execution_count": 44,
   "metadata": {},
   "outputs": [
    {
     "data": {
      "text/plain": [
       "27103499.635998324"
      ]
     },
     "execution_count": 44,
     "metadata": {},
     "output_type": "execute_result"
    }
   ],
   "source": [
    "profit_2 = calculate_profit(\n",
    "    predictions=predictions_valid_2,\n",
    "    target=target_valid_2\n",
    ")\n",
    "profit_2"
   ]
  },
  {
   "cell_type": "markdown",
   "metadata": {},
   "source": [
    "**4.3. Provide findings: suggest a region for oil wells' development and justify the choice.**"
   ]
  },
  {
   "cell_type": "markdown",
   "metadata": {},
   "source": [
    "Based on the linear regression predictions and the profit calculation function, Region 0 appears to be the most profitable region for oil well development.\n",
    "However, we'll have to do some more research to find the best region for oil well's development."
   ]
  },
  {
   "cell_type": "markdown",
   "metadata": {},
   "source": [
    "<div style=\"border: 5px solid green; padding: 10px; margin: 5px\">\n",
    "<b>   Reviewer's comment </b>\n",
    "    \n",
    "\n",
    "\n",
    "Good.\n",
    "</div>\n"
   ]
  },
  {
   "cell_type": "markdown",
   "metadata": {},
   "source": [
    "## 5. Calculate risks and profit for each region:"
   ]
  },
  {
   "cell_type": "markdown",
   "metadata": {},
   "source": [
    "**5.1. Use the bootstrapping technique with 1000 samples to find the distribution of profit.**"
   ]
  },
  {
   "cell_type": "markdown",
   "metadata": {},
   "source": [
    "<div style=\"border: 5px solid red; padding: 10px; margin: 5px\">\n",
    "<b>   Reviewer's comment </b>\n",
    "    \n",
    "You already have profit function, let's not repeat the code. \n",
    "\n",
    "</div>\n"
   ]
  },
  {
   "cell_type": "code",
   "execution_count": 45,
   "metadata": {},
   "outputs": [],
   "source": [
    "#setting the random state for reproducibility\n",
    "\n",
    "\n",
    "def bootstrapping(target, prediction):\n",
    "    state= np.random.RandomState(12345)\n",
    "    values = [] #Listing to store the profit values from each bootstram sample\n",
    "    bootstrap_samples = 1000 # Number of bootstrap samples\n",
    "    for i in range(bootstrap_samples):\n",
    "        sample_indices = state.choice(prediction.shape[0], size=500, replace = True) # Taking a random sample of 500 wells from the validation set with replacement\n",
    "        #Taking the samples \n",
    "        sample_predictions= prediction[sample_indices]\n",
    "        sample_target= target.iloc[sample_indices]\n",
    "         # Calculating profit using your previously defined function\n",
    "        profit= calculate_profit(sample_predictions, sample_target)\n",
    "        #saving the profit\n",
    "        values.append(profit)\n",
    "    return pd.Series(values)\n",
    "        \n",
    "    "
   ]
  },
  {
   "cell_type": "markdown",
   "metadata": {},
   "source": [
    "<div style=\"border: 5px solid green; padding: 15px; margin: 5px\">\n",
    "<b>   Reviewer's comment 2 </b>\n",
    "    \n",
    "Excellent! \n",
    "</div>"
   ]
  },
  {
   "cell_type": "markdown",
   "metadata": {},
   "source": [
    "<div style=\"border: 5px solid green; padding: 15px; margin: 5px\">\n",
    "<b>   Reviewer's comment </b>\n",
    "    \n",
    "\n",
    "    \n",
    "\n",
    "There's a replacement, well done! We indeed need to sample 500 rows with replacement. The point is that if we remove the replacement, our subsample (or rather, all subsamples) will simply resemble the original sample.\n",
    "    \n",
    "</div>"
   ]
  },
  {
   "cell_type": "markdown",
   "metadata": {},
   "source": [
    "**Region 0**"
   ]
  },
  {
   "cell_type": "code",
   "execution_count": 46,
   "metadata": {
    "scrolled": true
   },
   "outputs": [
    {
     "data": {
      "text/plain": [
       "0    6.054641e+06\n",
       "1    5.363934e+06\n",
       "2    2.937858e+06\n",
       "3    1.789934e+06\n",
       "4    2.719929e+06\n",
       "dtype: float64"
      ]
     },
     "execution_count": 46,
     "metadata": {},
     "output_type": "execute_result"
    }
   ],
   "source": [
    "pred_0 = bootstrapping(target_valid_0, predictions_valid_0)\n",
    "pred_0.head()"
   ]
  },
  {
   "cell_type": "code",
   "execution_count": 47,
   "metadata": {},
   "outputs": [
    {
     "name": "stdout",
     "output_type": "stream",
     "text": [
      "Average profit for Region 0: $3,961,649.85\n"
     ]
    }
   ],
   "source": [
    "#printing the average profit from region_0\n",
    "prof_avg_0 = pred_0.mean()\n",
    "\n",
    "print(f\"Average profit for Region 0: ${prof_avg_0:,.2f}\")\n"
   ]
  },
  {
   "cell_type": "markdown",
   "metadata": {},
   "source": [
    "**5.2. Find average profit, 95% confidence interval and risk of losses. Loss is negative profit, calculate it as a probability and then express as a percentage.**"
   ]
  },
  {
   "cell_type": "code",
   "execution_count": 48,
   "metadata": {},
   "outputs": [
    {
     "name": "stdout",
     "output_type": "stream",
     "text": [
      "95% confidence interval for Region 0 profit: $-1,112,155.46 to $9,097,669.42\n"
     ]
    }
   ],
   "source": [
    "# Calculate 95% confidence interval\n",
    "lower_0 = pred_0.quantile(0.025)\n",
    "upper_0 = pred_0.quantile(0.975)\n",
    "\n",
    "print(f\"95% confidence interval for Region 0 profit: ${lower_0:,.2f} to ${upper_0:,.2f}\")"
   ]
  },
  {
   "cell_type": "markdown",
   "metadata": {},
   "source": [
    "**5.3. Provide findings: suggest a region for development of oil wells and justify the choice.**"
   ]
  },
  {
   "cell_type": "code",
   "execution_count": 49,
   "metadata": {},
   "outputs": [
    {
     "name": "stdout",
     "output_type": "stream",
     "text": [
      "Probability of loss: 6.90%\n"
     ]
    }
   ],
   "source": [
    "# Calculate the proportion of times profit was negative\n",
    "risk_0 = (pred_0 < 0).mean()\n",
    "\n",
    "print(f\"Probability of loss: {risk_0:.2%}\")"
   ]
  },
  {
   "cell_type": "markdown",
   "metadata": {},
   "source": [
    "**Region 1**"
   ]
  },
  {
   "cell_type": "code",
   "execution_count": 50,
   "metadata": {
    "scrolled": true
   },
   "outputs": [
    {
     "data": {
      "text/plain": [
       "0    2.280162e+06\n",
       "1    3.343157e+06\n",
       "2    2.537047e+06\n",
       "3    6.139661e+06\n",
       "4    3.571430e+06\n",
       "dtype: float64"
      ]
     },
     "execution_count": 50,
     "metadata": {},
     "output_type": "execute_result"
    }
   ],
   "source": [
    "pred_1 = bootstrapping(target_valid_1, predictions_valid_1)\n",
    "pred_1.head()"
   ]
  },
  {
   "cell_type": "code",
   "execution_count": 51,
   "metadata": {},
   "outputs": [
    {
     "name": "stdout",
     "output_type": "stream",
     "text": [
      "Average profit for Region 1: $4,560,451.06\n"
     ]
    }
   ],
   "source": [
    "#printing the average profit from region_1\n",
    "prof_avg_1 = pred_1.mean()\n",
    "\n",
    "print(f\"Average profit for Region 1: ${prof_avg_1:,.2f}\")"
   ]
  },
  {
   "cell_type": "markdown",
   "metadata": {},
   "source": []
  },
  {
   "cell_type": "markdown",
   "metadata": {},
   "source": [
    "<div style=\"border: 5px solid green; padding: 15px; margin: 5px\">\n",
    "<b>   Reviewer's comment 2 </b>\n",
    "    \n",
    "\n",
    "    \n",
    "\n",
    "Good!     \n",
    "</div><div style=\"border: 5px solid red; padding: 15px; margin: 5px\">\n",
    "<b>   Reviewer's comment </b>\n",
    "    \n",
    "\n",
    "    \n",
    "\n",
    "To avoid code repetition, please try to use one loop to iterate over three regions. In addition, please print the average profit apart from the confidence interval and risk value.     \n",
    "</div>"
   ]
  },
  {
   "cell_type": "code",
   "execution_count": 52,
   "metadata": {},
   "outputs": [
    {
     "name": "stdout",
     "output_type": "stream",
     "text": [
      "95% confidence interval for Region 1 profit: $338,205.09 to $8,522,894.54\n"
     ]
    }
   ],
   "source": [
    "# Calculate 95% confidence interval\n",
    "lower_1 = pred_1.quantile(0.025)\n",
    "upper_1 = pred_1.quantile(0.975)\n",
    "\n",
    "print(f\"95% confidence interval for Region 1 profit: ${lower_1:,.2f} to ${upper_1:,.2f}\")"
   ]
  },
  {
   "cell_type": "code",
   "execution_count": 53,
   "metadata": {},
   "outputs": [
    {
     "name": "stdout",
     "output_type": "stream",
     "text": [
      "Probability of loss: 1.50%\n"
     ]
    }
   ],
   "source": [
    "# Calculate the proportion of times profit was negative\n",
    "risk_1 = (pred_1 < 0).mean()\n",
    "\n",
    "print(f\"Probability of loss: {risk_1:.2%}\")"
   ]
  },
  {
   "cell_type": "markdown",
   "metadata": {},
   "source": [
    "**Region 2**"
   ]
  },
  {
   "cell_type": "code",
   "execution_count": 54,
   "metadata": {
    "scrolled": true
   },
   "outputs": [
    {
     "data": {
      "text/plain": [
       "0   -7.189923e+05\n",
       "1    6.459964e+06\n",
       "2    6.261756e+06\n",
       "3    4.123517e+06\n",
       "4   -5.596049e+05\n",
       "dtype: float64"
      ]
     },
     "execution_count": 54,
     "metadata": {},
     "output_type": "execute_result"
    }
   ],
   "source": [
    "pred_2 = bootstrapping(target_valid_2, predictions_valid_2)\n",
    "pred_2.head()"
   ]
  },
  {
   "cell_type": "code",
   "execution_count": 55,
   "metadata": {},
   "outputs": [
    {
     "name": "stdout",
     "output_type": "stream",
     "text": [
      "Average profit for Region 2: $4,044,038.67\n"
     ]
    }
   ],
   "source": [
    "#printing the average profit from region_2\n",
    "prof_avg_2 = pred_2.mean()\n",
    "\n",
    "print(f\"Average profit for Region 2: ${prof_avg_2:,.2f}\")"
   ]
  },
  {
   "cell_type": "code",
   "execution_count": 56,
   "metadata": {},
   "outputs": [
    {
     "name": "stdout",
     "output_type": "stream",
     "text": [
      "95% confidence interval for Region 2 profit: $-1,633,504.13 to $9,503,595.75\n"
     ]
    }
   ],
   "source": [
    "# Calculate 95% confidence interval\n",
    "lower_2 = pred_2.quantile(0.025)\n",
    "upper_2 = pred_2.quantile(0.975)\n",
    "\n",
    "print(f\"95% confidence interval for Region 2 profit: ${lower_2:,.2f} to ${upper_2:,.2f}\")"
   ]
  },
  {
   "cell_type": "code",
   "execution_count": 57,
   "metadata": {},
   "outputs": [
    {
     "name": "stdout",
     "output_type": "stream",
     "text": [
      "Probability of loss: 7.60%\n"
     ]
    }
   ],
   "source": [
    "# Calculate the proportion of times profit was negative\n",
    "risk_2 = (pred_2 < 0).mean()\n",
    "\n",
    "print(f\"Probability of loss: {risk_2:.2%}\")"
   ]
  },
  {
   "cell_type": "markdown",
   "metadata": {},
   "source": [
    "### Comment"
   ]
  },
  {
   "cell_type": "markdown",
   "metadata": {},
   "source": [
    "Region 0\n",
    "\n",
    "- Average Profit = 3.9 millions of dollars \n",
    "- 95% Confidence Interval (Profit): from −1.1M to +9.1M\n",
    "- Loss probability: 6.9%\n",
    "\n",
    "Region 1\n",
    "\n",
    "- Average Profit = 4.6 millions of dollars\n",
    "- 95% Confidence Interval (Profit): from +338K to +8.5M\n",
    "- Loss probability: 1.5%\n",
    "\n",
    "Region 2\n",
    "\n",
    "- Average Profit = 4 millions of dollars\n",
    "- 95% Confidence Interval (Profit): from −1.63M to +9.5M\n",
    "- Loss probability: 7.6%\n",
    "\n",
    "Interpretation:\n",
    "\n",
    "- Region 0 has a slightly higher profit ceiling with a 3.9 millions of dollars in average profit, but also a risk that its in a middle.\n",
    "- Region 1 stands out for having no loss risk in the 95% interval (lower bound is positive) with the higher average profit of 4.6 millions of dollars in and the lowest actual probability of loss (only 1.5%).\n",
    "- Region 2 has higher potential profit with a moderate average profit of 4 millions, but higher risk too.\n",
    "\n",
    "The difference between the higher potentia profit with the average profit should be due a large profit samples in the bootstrapping but the confidence interval could be influenced by outliers, so Regions 1 looks like a more consistent in its profits."
   ]
  },
  {
   "cell_type": "markdown",
   "metadata": {},
   "source": [
    "<div style=\"border: 5px solid green; padding: 15px; margin: 5px\">\n",
    "<b>   Reviewer's comment </b>\n",
    "    \n",
    "\n",
    "    \n",
    "\n",
    "Good. \n",
    "\n",
    "</div>"
   ]
  },
  {
   "cell_type": "markdown",
   "metadata": {},
   "source": [
    "## 6. General conclusion"
   ]
  },
  {
   "cell_type": "markdown",
   "metadata": {},
   "source": [
    "In this project, aimed to find the best place for a new well, in order to choose the location, it was necessary to prepare the data which cosnsisted in historical one from 3 different regions, each with oil well features and their actual oil reserves. After we checked, we didn't see any missing values, duplicates and see a correct data types.\n",
    "It was necessary to split the dataset into training and validation sets for each region.\n",
    "\n",
    "After preparation, we went to model training and evaluation for each region using its own data and the LinearRegression model in order to predict the amount of oil reserves in each well. On the same page, used the RMSE as evaluation metric to see how far predictions were from actual values.\n",
    "Then, it was necessaty to created a function with \"calculate_profit()\" to calculate the profit, and to do that we simulated: choosing the top 200 wells with the highest predicted reserves, calculating revenue based on actual reserves from those wells, and subtracting the budget to get the net profit. With this function we were able to estimate the initial profit without risk analysis appliying the model to validation data and used \"calculate_profit()\" to estimate profit for each region having the following results: \n",
    "\n",
    "- Region 0: ~$33.2M \n",
    "- Region 1: ~$24.2M\n",
    "- Region 2: ~$27.1M\n",
    "\n",
    "Then we analyzed the the profit with Bootstrapping per each region repeating the profit calculation 1,000 times using random samples of 500 wells and stored the profit results to evaluate variability. In this scenario we calculated the 95% confidence interval for profits having the following outputs:\n",
    "\n",
    "- Region 0: ~$–1.11M to $9.09M\n",
    "- Region 1: ~$338K to $8.52M\n",
    "- Region 2: ~$–1.63M to $9.50M\n",
    "\n",
    "Finally Measured the risk of loss measuring how often profit was below zero, finding here: \n",
    "\n",
    "- Region 0: 6.9%\n",
    "- Region 1: 1.5%\n",
    "- Region 2: 7.6%\n",
    "\n",
    "After comparing the three regions, we decided that Region 0 is the best option for investment. Even though Region 1 has the lowest risk and shows a good range of profits, Region 0 offers higher potential profits with a moderate level of risk, which seems like a good balance to me. Region 2 has a wide profit range too, but the risk is a bit higher than Region 0. So, based on the results and assuming the investor is willing to accept some risk to get better returns, I think Region 0 is the most promising and balanced choice for developing new wells. However, some might prefer Region 1 for its lower risk and stable profit, even if it’s smaller.\n",
    "\n"
   ]
  },
  {
   "cell_type": "markdown",
   "metadata": {},
   "source": [
    "<div style=\"border: 5px solid green; padding: 15px; margin: 5px\">\n",
    "<b>   Reviewer's comment </b>\n",
    "    \n",
    "\n",
    "Excellent job, thank you so much!     \n",
    "</div>"
   ]
  },
  {
   "cell_type": "code",
   "execution_count": null,
   "metadata": {},
   "outputs": [],
   "source": []
  }
 ],
 "metadata": {
  "kernelspec": {
   "display_name": "Python 3 (ipykernel)",
   "language": "python",
   "name": "python3"
  },
  "language_info": {
   "codemirror_mode": {
    "name": "ipython",
    "version": 3
   },
   "file_extension": ".py",
   "mimetype": "text/x-python",
   "name": "python",
   "nbconvert_exporter": "python",
   "pygments_lexer": "ipython3",
   "version": "3.9.22"
  }
 },
 "nbformat": 4,
 "nbformat_minor": 4
}
